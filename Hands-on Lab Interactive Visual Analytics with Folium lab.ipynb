{
  "metadata": {
    "kernelspec": {
      "name": "python",
      "display_name": "Python (Pyodide)",
      "language": "python"
    },
    "language_info": {
      "codemirror_mode": {
        "name": "python",
        "version": 3
      },
      "file_extension": ".py",
      "mimetype": "text/x-python",
      "name": "python",
      "nbconvert_exporter": "python",
      "pygments_lexer": "ipython3",
      "version": "3.8"
    },
    "prev_pub_hash": "0f9db842b41c859223722809f8be602f5df9334348bd206b11e3af58c30eb345"
  },
  "nbformat_minor": 4,
  "nbformat": 4,
  "cells": [
    {
      "cell_type": "markdown",
      "source": "<p style=\"text-align:center\">\n    <a href=\"https://skills.network/?utm_medium=Exinfluencer&utm_source=Exinfluencer&utm_content=000026UJ&utm_term=10006555&utm_id=NA-SkillsNetwork-Channel-SkillsNetworkCoursesIBMDS0321ENSkillsNetwork26802033-2022-01-01\" target=\"_blank\">\n    <img src=\"https://cf-courses-data.s3.us.cloud-object-storage.appdomain.cloud/assets/logos/SN_web_lightmode.png\" width=\"200\" alt=\"Skills Network Logo\">\n    </a>\n</p>\n",
      "metadata": {}
    },
    {
      "cell_type": "markdown",
      "source": "# **Hands-on Lab: Interactive Visual Analytics with Folium**\n",
      "metadata": {}
    },
    {
      "cell_type": "markdown",
      "source": "Estimated time needed: **40** minutes\n",
      "metadata": {}
    },
    {
      "cell_type": "markdown",
      "source": "The launch success rate may depend on many factors such as payload mass, orbit type, and so on. It may also depend on the location and proximities of a launch site, i.e., the initial position of rocket trajectories. Finding an optimal location for building a launch site certainly involves many factors and hopefully we could discover some of the factors by analyzing the existing launch site locations.\n",
      "metadata": {}
    },
    {
      "cell_type": "markdown",
      "source": "In the previous exploratory data analysis labs, you have visualized the SpaceX launch dataset using `matplotlib` and `seaborn` and discovered some preliminary correlations between the launch site and success rates. In this lab, you will be performing more interactive visual analytics using `Folium`.\n",
      "metadata": {}
    },
    {
      "cell_type": "markdown",
      "source": "## Objectives\n",
      "metadata": {}
    },
    {
      "cell_type": "markdown",
      "source": "This lab contains the following tasks:\n\n*   **TASK 1:** Mark all launch sites on a map\n*   **TASK 2:** Mark the success/failed launches for each site on the map\n*   **TASK 3:** Calculate the distances between a launch site to its proximities\n\nAfter completed the above tasks, you should be able to find some geographical patterns about launch sites.\n",
      "metadata": {}
    },
    {
      "cell_type": "markdown",
      "source": "Let's first import required Python packages for this lab:\n",
      "metadata": {}
    },
    {
      "cell_type": "code",
      "source": "import piplite\nawait piplite.install(['folium'])\nawait piplite.install(['pandas'])",
      "metadata": {
        "trusted": true
      },
      "outputs": [],
      "execution_count": null
    },
    {
      "cell_type": "code",
      "source": "import folium\nimport pandas as pd",
      "metadata": {
        "trusted": true
      },
      "outputs": [],
      "execution_count": null
    },
    {
      "cell_type": "code",
      "source": "# Import folium MarkerCluster plugin\nfrom folium.plugins import MarkerCluster\n# Import folium MousePosition plugin\nfrom folium.plugins import MousePosition\n# Import folium DivIcon plugin\nfrom folium.features import DivIcon",
      "metadata": {
        "trusted": true
      },
      "outputs": [],
      "execution_count": null
    },
    {
      "cell_type": "markdown",
      "source": "If you need to refresh your memory about folium, you may download and refer to this previous folium lab:\n",
      "metadata": {}
    },
    {
      "cell_type": "markdown",
      "source": "[Generating Maps with Python](https://cf-courses-data.s3.us.cloud-object-storage.appdomain.cloud/IBMDeveloperSkillsNetwork-DV0101EN-SkillsNetwork/labs/v4/DV0101EN-Exercise-Generating-Maps-in-Python.ipynb)\n",
      "metadata": {}
    },
    {
      "cell_type": "code",
      "source": "## Task 1: Mark all launch sites on a map\nfrom js import fetch\nimport io\n\n# Define the dataset URL\nURL = \"https://cf-courses-data.s3.us.cloud-object-storage.appdomain.cloud/IBM-DS0321EN-SkillsNetwork/datasets/dataset_part_2.csv\"\n\n# Fetch and load the dataset\nresp = await fetch(URL)\ndataset_part_2_csv = io.BytesIO((await resp.arrayBuffer()).to_py())\ndf = pd.read_csv(dataset_part_2_csv)\n\n# Preview the data\ndf.head()",
      "metadata": {
        "trusted": true
      },
      "outputs": [],
      "execution_count": null
    },
    {
      "cell_type": "markdown",
      "source": "First, let's try to add each site's location on a map using site's latitude and longitude coordinates\n",
      "metadata": {}
    },
    {
      "cell_type": "markdown",
      "source": "The following dataset with the name `spacex_launch_geo.csv` is an augmented dataset with latitude and longitude added for each site.\n",
      "metadata": {}
    },
    {
      "cell_type": "code",
      "source": "# Download and read the `spacex_launch_geo.csv`\nfrom js import fetch\nimport io\n\nURL = 'https://cf-courses-data.s3.us.cloud-object-storage.appdomain.cloud/IBM-DS0321EN-SkillsNetwork/datasets/spacex_launch_geo.csv'\nresp = await fetch(URL)\nspacex_csv_file = io.BytesIO((await resp.arrayBuffer()).to_py())\nspacex_df=pd.read_csv(spacex_csv_file)",
      "metadata": {
        "trusted": true
      },
      "outputs": [],
      "execution_count": null
    },
    {
      "cell_type": "markdown",
      "source": "Now, you can take a look at what are the coordinates for each site.\n",
      "metadata": {}
    },
    {
      "cell_type": "code",
      "source": "# Select relevant sub-columns: `Launch Site`, `Lat(Latitude)`, `Long(Longitude)`, `class`\nspacex_df = spacex_df[['Launch Site', 'Lat', 'Long', 'class']]\nlaunch_sites_df = spacex_df.groupby(['Launch Site'], as_index=False).first()\nlaunch_sites_df = launch_sites_df[['Launch Site', 'Lat', 'Long']]\nlaunch_sites_df",
      "metadata": {
        "trusted": true
      },
      "outputs": [],
      "execution_count": null
    },
    {
      "cell_type": "markdown",
      "source": "Above coordinates are just plain numbers that can not give you any intuitive insights about where are those launch sites. If you are very good at geography, you can interpret those numbers directly in your mind. If not, that's fine too. Let's visualize those locations by pinning them on a map.\n",
      "metadata": {}
    },
    {
      "cell_type": "markdown",
      "source": "We first need to create a folium `Map` object, with an initial center location to be NASA Johnson Space Center at Houston, Texas.\n",
      "metadata": {}
    },
    {
      "cell_type": "code",
      "source": "# Start location is NASA Johnson Space Center\nnasa_coordinate = [29.559684888503615, -95.0830971930759]\nsite_map = folium.Map(location=nasa_coordinate, zoom_start=10)",
      "metadata": {
        "trusted": true
      },
      "outputs": [],
      "execution_count": null
    },
    {
      "cell_type": "markdown",
      "source": "We could use `folium.Circle` to add a highlighted circle area with a text label on a specific coordinate. For example,\n",
      "metadata": {}
    },
    {
      "cell_type": "code",
      "source": "# Create a blue circle at NASA Johnson Space Center's coordinate with a popup label showing its name\ncircle = folium.Circle(nasa_coordinate, radius=1000, color='#d35400', fill=True).add_child(folium.Popup('NASA Johnson Space Center'))\n# Create a blue circle at NASA Johnson Space Center's coordinate with a icon showing its name\nmarker = folium.map.Marker(\n    nasa_coordinate,\n    # Create an icon as a text label\n    icon=DivIcon(\n        icon_size=(20,20),\n        icon_anchor=(0,0),\n        html='<div style=\"font-size: 12; color:#d35400;\"><b>%s</b></div>' % 'NASA JSC',\n        )\n    )\nsite_map.add_child(circle)\nsite_map.add_child(marker)",
      "metadata": {
        "trusted": true
      },
      "outputs": [],
      "execution_count": null
    },
    {
      "cell_type": "markdown",
      "source": "and you should find a small yellow circle near the city of Houston and you can zoom-in to see a larger circle.\n",
      "metadata": {}
    },
    {
      "cell_type": "markdown",
      "source": "Now, let's add a circle for each launch site in data frame `launch_sites`\n",
      "metadata": {}
    },
    {
      "cell_type": "markdown",
      "source": "*TODO:*  Create and add `folium.Circle` and `folium.Marker` for each launch site on the site map\n",
      "metadata": {}
    },
    {
      "cell_type": "markdown",
      "source": "An example of folium.Circle:\n",
      "metadata": {}
    },
    {
      "cell_type": "markdown",
      "source": "`folium.Circle(coordinate, radius=1000, color='#000000', fill=True).add_child(folium.Popup(...))`\n",
      "metadata": {}
    },
    {
      "cell_type": "markdown",
      "source": "An example of folium.Marker:\n",
      "metadata": {}
    },
    {
      "cell_type": "markdown",
      "source": "`folium.map.Marker(coordinate, icon=DivIcon(icon_size=(20,20),icon_anchor=(0,0), html='<div style=\"font-size: 12; color:#d35400;\"><b>%s</b></div>' % 'label', ))`\n",
      "metadata": {}
    },
    {
      "cell_type": "code",
      "source": "# Initialize the map at NASA's coordinate\nsite_map = folium.Map(location=nasa_coordinate, zoom_start=5)\n\n# Add a circle and popup for each launch site\nfor _, row in launch_sites_df.iterrows():\n    coordinate = [row['Lat'], row['Long']]\n    site_name = row['Launch Site']\n    \n    # Add a yellow circle\n    folium.Circle(\n        location=coordinate,\n        radius=1000,\n        color='#FFD700',  # Yellow\n        fill=True,\n        fill_color='#FFD700'\n    ).add_child(folium.Popup(site_name)).add_to(site_map)\n\nsite_map",
      "metadata": {
        "trusted": true
      },
      "outputs": [],
      "execution_count": null
    },
    {
      "cell_type": "markdown",
      "source": "The generated map with marked launch sites should look similar to the following:\n",
      "metadata": {}
    },
    {
      "cell_type": "markdown",
      "source": "<center>\n    <img src=\"https://cf-courses-data.s3.us.cloud-object-storage.appdomain.cloud/IBM-DS0321EN-SkillsNetwork/labs/module_3/images/launch_site_markers.png\">\n</center>\n",
      "metadata": {}
    },
    {
      "cell_type": "markdown",
      "source": "Now, you can explore the map by zoom-in/out the marked areas\n, and try to answer the following questions:\n\n*   Are all launch sites in proximity to the Equator line?\n*   Are all launch sites in very close proximity to the coast?\n\nAlso please try to explain your findings.\n",
      "metadata": {}
    },
    {
      "cell_type": "code",
      "source": "# Task 2: Mark the success/failed launches for each site on the map\n# Create a folium map centered on average coordinates\nlaunch_map = folium.Map(location=[spacex_df['Lat'].mean(), spacex_df['Long'].mean()], zoom_start=5)\n\n# Add success/failure markers\nfor _, row in spacex_df.iterrows():\n    color = 'green' if row['class'] == 1 else 'red'\n    folium.CircleMarker(\n        location=[row['Lat'], row['Long']],\n        radius=5,\n        color=color,\n        fill=True,\n        fill_color=color,\n        popup=f\"{row['Launch Site']} - {'Success' if row['class'] == 1 else 'Failure'}\"\n    ).add_to(launch_map)\n\nlaunch_map",
      "metadata": {
        "trusted": true
      },
      "outputs": [],
      "execution_count": null
    },
    {
      "cell_type": "markdown",
      "source": "Next, let's try to enhance the map by adding the launch outcomes for each site, and see which sites have high success rates.\nRecall that data frame spacex_df has detailed launch records, and the `class` column indicates if this launch was successful or not\n",
      "metadata": {}
    },
    {
      "cell_type": "code",
      "source": "spacex_df.tail(10)",
      "metadata": {
        "trusted": true
      },
      "outputs": [],
      "execution_count": null
    },
    {
      "cell_type": "markdown",
      "source": "Next, let's create markers for all launch records.\nIf a launch was successful `(class=1)`, then we use a green marker and if a launch was failed, we use a red marker `(class=0)`\n",
      "metadata": {}
    },
    {
      "cell_type": "markdown",
      "source": "Note that a launch only happens in one of the four launch sites, which means many launch records will have the exact same coordinate. Marker clusters can be a good way to simplify a map containing many markers having the same coordinate.\n",
      "metadata": {}
    },
    {
      "cell_type": "markdown",
      "source": "Let's first create a `MarkerCluster` object\n",
      "metadata": {}
    },
    {
      "cell_type": "code",
      "source": "# Initialize the map\nlaunch_map = folium.Map(location=[spacex_df['Lat'].mean(), spacex_df['Long'].mean()], zoom_start=5)\n\n# Create a MarkerCluster object\nmarker_cluster = MarkerCluster().add_to(launch_map)\n\n# Add markers for each launch record\nfor _, row in spacex_df.iterrows():\n    coordinate = [row['Lat'], row['Long']]\n    outcome = 'Success' if row['class'] == 1 else 'Failure'\n    color = 'green' if row['class'] == 1 else 'red'\n    \n    folium.Marker(\n        location=coordinate,\n        icon=folium.Icon(color=color),\n        popup=f\"{row['Launch Site']} - {outcome}\"\n    ).add_to(marker_cluster)\n\nlaunch_map",
      "metadata": {
        "trusted": true
      },
      "outputs": [],
      "execution_count": null
    },
    {
      "cell_type": "markdown",
      "source": "*TODO:* Create a new column in `spacex_df` dataframe called `marker_color` to store the marker colors based on the `class` value\n",
      "metadata": {}
    },
    {
      "cell_type": "code",
      "source": "# Define a function to assign color based on class\ndef assign_marker_color(class_value):\n    return 'green' if class_value == 1 else 'red'\n\n# Apply the function to create the new column\nspacex_df['marker_color'] = spacex_df['class'].apply(assign_marker_color)\n\n# Preview the updated dataframe\nspacex_df[['Launch Site', 'class', 'marker_color']].head()",
      "metadata": {
        "trusted": true
      },
      "outputs": [],
      "execution_count": null
    },
    {
      "cell_type": "markdown",
      "source": "*TODO:* For each launch result in `spacex_df` data frame, add a `folium.Marker` to `marker_cluster`\n",
      "metadata": {}
    },
    {
      "cell_type": "code",
      "source": "# Add marker_cluster to current site_map\nsite_map.add_child(marker_cluster)\n\n# for each row in spacex_df data frame\n# create a Marker object with its coordinate\n# and customize the Marker's icon property to indicate if this launch was successed or failed, \n# e.g., icon=folium.Icon(color='white', icon_color=row['marker_color']\nfor index, record in spacex_df.iterrows():\n    # TODO: Create and add a Marker cluster to the site map\n    # marker = folium.Marker(...)\n    marker_cluster.add_child(marker)\n\nsite_map",
      "metadata": {
        "trusted": true
      },
      "outputs": [],
      "execution_count": null
    },
    {
      "cell_type": "markdown",
      "source": "Your updated map may look like the following screenshots:\n",
      "metadata": {}
    },
    {
      "cell_type": "markdown",
      "source": "<center>\n    <img src=\"https://cf-courses-data.s3.us.cloud-object-storage.appdomain.cloud/IBM-DS0321EN-SkillsNetwork/labs/module_3/images/launch_site_marker_cluster.png\">\n</center>\n",
      "metadata": {}
    },
    {
      "cell_type": "markdown",
      "source": "<center>\n    <img src=\"https://cf-courses-data.s3.us.cloud-object-storage.appdomain.cloud/IBM-DS0321EN-SkillsNetwork/labs/module_3/images/launch_site_marker_cluster_zoomed.png\">\n</center>\n",
      "metadata": {}
    },
    {
      "cell_type": "markdown",
      "source": "From the color-labeled markers in marker clusters, you should be able to easily identify which launch sites have relatively high success rates.\n",
      "metadata": {}
    },
    {
      "cell_type": "code",
      "source": "# TASK 3: Calculate the distances between a launch site to its proximities\nimport math\n\n# Haversine formula to calculate distance in kilometers\ndef haversine(coord1, coord2):\n    R = 6371  # Earth radius in km\n    lat1, lon1 = coord1\n    lat2, lon2 = coord2\n\n    phi1 = math.radians(lat1)\n    phi2 = math.radians(lat2)\n    delta_phi = math.radians(lat2 - lat1)\n    delta_lambda = math.radians(lon2 - lon1)\n\n    a = math.sin(delta_phi / 2)**2 + math.cos(phi1) * math.cos(phi2) * math.sin(delta_lambda / 2)**2\n    c = 2 * math.atan2(math.sqrt(a), math.sqrt(1 - a))\n\n    return R * c\n# Coordinates\nccafs = (28.562302, -80.577356)\nksc = (28.573255, -80.646895)\nvafb = (34.632093, -120.610829)\nstls = (30.671125, -88.387777)\n\n# Calculate distances\nprint(f\"CCAFS to KSC: {haversine(ccafs, ksc):.2f} km\")\nprint(f\"CCAFS to VAFB: {haversine(ccafs, vafb):.2f} km\")\nprint(f\"CCAFS to STLS: {haversine(ccafs, stls):.2f} km\")",
      "metadata": {
        "trusted": true
      },
      "outputs": [],
      "execution_count": null
    },
    {
      "cell_type": "markdown",
      "source": "Next, we need to explore and analyze the proximities of launch sites.\n",
      "metadata": {}
    },
    {
      "cell_type": "markdown",
      "source": "Let's first add a `MousePosition` on the map to get coordinate for a mouse over a point on the map. As such, while you are exploring the map, you can easily find the coordinates of any points of interests (such as railway)\n",
      "metadata": {}
    },
    {
      "cell_type": "code",
      "source": "# Add Mouse Position to get the coordinate (Lat, Long) for a mouse over on the map\nformatter = \"function(num) {return L.Util.formatNum(num, 5);};\"\nmouse_position = MousePosition(\n    position='topright',\n    separator=' Long: ',\n    empty_string='NaN',\n    lng_first=False,\n    num_digits=20,\n    prefix='Lat:',\n    lat_formatter=formatter,\n    lng_formatter=formatter,\n)\n\nsite_map.add_child(mouse_position)\nsite_map",
      "metadata": {
        "trusted": true
      },
      "outputs": [],
      "execution_count": null
    },
    {
      "cell_type": "markdown",
      "source": "Now zoom in to a launch site and explore its proximity to see if you can easily find any railway, highway, coastline, etc. Move your mouse to these points and mark down their coordinates (shown on the top-left) in order to the distance to the launch site.\n",
      "metadata": {}
    },
    {
      "cell_type": "markdown",
      "source": "Now zoom in to a launch site and explore its proximity to see if you can easily find any railway, highway, coastline, etc. Move your mouse to these points and mark down their coordinates (shown on the top-left) in order to the distance to the launch site.\n",
      "metadata": {}
    },
    {
      "cell_type": "code",
      "source": "from math import sin, cos, sqrt, atan2, radians\n\ndef calculate_distance(lat1, lon1, lat2, lon2):\n    # approximate radius of earth in km\n    R = 6373.0\n\n    lat1 = radians(lat1)\n    lon1 = radians(lon1)\n    lat2 = radians(lat2)\n    lon2 = radians(lon2)\n\n    dlon = lon2 - lon1\n    dlat = lat2 - lat1\n\n    a = sin(dlat / 2)**2 + cos(lat1) * cos(lat2) * sin(dlon / 2)**2\n    c = 2 * atan2(sqrt(a), sqrt(1 - a))\n\n    distance = R * c\n    return distance",
      "metadata": {
        "trusted": true
      },
      "outputs": [],
      "execution_count": null
    },
    {
      "cell_type": "markdown",
      "source": "*TODO:* Mark down a point on the closest coastline using MousePosition and calculate the distance between the coastline point and the launch site.\n",
      "metadata": {}
    },
    {
      "cell_type": "code",
      "source": "# find coordinate of the closet coastline\n# e.g.,: Lat: 28.56367  Lon: -80.57163\n# distance_coastline = calculate_distance(launch_site_lat, launch_site_lon, coastline_lat, coastline_lon)",
      "metadata": {
        "trusted": true
      },
      "outputs": [],
      "execution_count": null
    },
    {
      "cell_type": "code",
      "source": "# Create and add a folium.Marker on your selected closest coastline point on the map\n# Display the distance between coastline point and launch site using the icon property \n# for example\n# distance_marker = folium.Marker(\n#    coordinate,\n#    icon=DivIcon(\n#        icon_size=(20,20),\n#        icon_anchor=(0,0),\n#        html='<div style=\"font-size: 12; color:#d35400;\"><b>%s</b></div>' % \"{:10.2f} KM\".format(distance),\n#        )\n#    )\n\n# Launch site coordinates (CCAFS LC-40)\nlaunch_site_lat = 28.562302\nlaunch_site_lon = -80.577356\n\n# Closest coastline point (manually selected using MousePosition)\ncoastline_lat = 28.56367\ncoastline_lon = -80.57163\n\nimport math\n\ndef haversine(coord1, coord2):\n    R = 6371  # Earth radius in km\n    lat1, lon1 = coord1\n    lat2, lon2 = coord2\n\n    phi1 = math.radians(lat1)\n    phi2 = math.radians(lat2)\n    delta_phi = math.radians(lat2 - lat1)\n    delta_lambda = math.radians(lon2 - lon1)\n\n    a = math.sin(delta_phi / 2)**2 + math.cos(phi1) * math.cos(phi2) * math.sin(delta_lambda / 2)**2\n    c = 2 * math.atan2(math.sqrt(a), math.sqrt(1 - a))\n\n    return R * c\n\n# Calculate distance\ndistance_coastline = haversine((launch_site_lat, launch_site_lon), (coastline_lat, coastline_lon))\n\nimport folium\nfrom folium.features import DivIcon\n\n# Initialize map centered on launch site\nsite_map = folium.Map(location=[launch_site_lat, launch_site_lon], zoom_start=13)\n\n# Add launch site marker\nfolium.Marker([launch_site_lat, launch_site_lon], popup='CCAFS LC-40').add_to(site_map)\n\n# Add coastline marker with distance label\nfolium.Marker(\n    [coastline_lat, coastline_lon],\n    icon=DivIcon(\n        icon_size=(20, 20),\n        icon_anchor=(0, 0),\n        html='<div style=\"font-size: 12px; color:#d35400;\"><b>{:.2f} KM</b></div>'.format(distance_coastline)\n    )\n).add_to(site_map)\n\nsite_map",
      "metadata": {
        "trusted": true
      },
      "outputs": [],
      "execution_count": null
    },
    {
      "cell_type": "markdown",
      "source": "*TODO:* Draw a `PolyLine` between a launch site to the selected coastline point\n",
      "metadata": {}
    },
    {
      "cell_type": "code",
      "source": "# Create a `folium.PolyLine` object using the coastline coordinates and launch site coordinate\n# lines=folium.PolyLine(locations=coordinates, weight=1)\n# Coordinates for launch site and coastline point\nlaunch_site_coord = [28.562302, -80.577356]     # CCAFS LC-40\ncoastline_coord = [28.56367, -80.57163]         # Closest coastline point\n# Create a PolyLine between the launch site and coastline\nlines = folium.PolyLine(locations=[launch_site_coord, coastline_coord], weight=2, color='blue')\n# Initialize the map\nsite_map = folium.Map(location=launch_site_coord, zoom_start=13)\n\n# Add the line to the map\nsite_map.add_child(lines)\n\n# Optional: Add markers for both points\nfolium.Marker(launch_site_coord, popup='Launch Site').add_to(site_map)\nfolium.Marker(coastline_coord, popup='Coastline').add_to(site_map)\n\nsite_map",
      "metadata": {
        "trusted": true
      },
      "outputs": [],
      "execution_count": null
    },
    {
      "cell_type": "markdown",
      "source": "Your updated map with distance line should look like the following screenshot:\n",
      "metadata": {}
    },
    {
      "cell_type": "markdown",
      "source": "<center>\n    <img src=\"https://cf-courses-data.s3.us.cloud-object-storage.appdomain.cloud/IBM-DS0321EN-SkillsNetwork/labs/module_3/images/launch_site_marker_distance.png\">\n</center>\n",
      "metadata": {}
    },
    {
      "cell_type": "markdown",
      "source": "*TODO:* Similarly, you can draw a line betwee a launch site to its closest city, railway, highway, etc. You need to use `MousePosition` to find the their coordinates on the map first\n",
      "metadata": {}
    },
    {
      "cell_type": "markdown",
      "source": "A railway map symbol may look like this:\n",
      "metadata": {}
    },
    {
      "cell_type": "markdown",
      "source": "<center>\n    <img src=\"https://cf-courses-data.s3.us.cloud-object-storage.appdomain.cloud/IBM-DS0321EN-SkillsNetwork/labs/module_3/images/railway.png\">\n</center>\n",
      "metadata": {}
    },
    {
      "cell_type": "markdown",
      "source": "A highway map symbol may look like this:\n",
      "metadata": {}
    },
    {
      "cell_type": "markdown",
      "source": "<center>\n    <img src=\"https://cf-courses-data.s3.us.cloud-object-storage.appdomain.cloud/IBM-DS0321EN-SkillsNetwork/labs/module_3/images/highway.png\">\n</center>\n",
      "metadata": {}
    },
    {
      "cell_type": "markdown",
      "source": "A city map symbol may look like this:\n",
      "metadata": {}
    },
    {
      "cell_type": "markdown",
      "source": "<center>\n    <img src=\"https://cf-courses-data.s3.us.cloud-object-storage.appdomain.cloud/IBM-DS0321EN-SkillsNetwork/labs/module_3/images/city.png\">\n</center>\n",
      "metadata": {}
    },
    {
      "cell_type": "code",
      "source": "# Create a marker with distance to a closest city, railway, highway, etc.\n# Draw a line between the marker to the launch site\n# Coordinates\nlaunch_site_coord = [28.562302, -80.577356]     # CCAFS LC-40\ncity_coord = [28.3922, -80.6077]                # Cape Canaveral, FL",
      "metadata": {
        "trusted": true
      },
      "outputs": [],
      "execution_count": null
    },
    {
      "cell_type": "code",
      "source": "import math\n\ndef haversine(coord1, coord2):\n    R = 6371  # Earth radius in km\n    lat1, lon1 = coord1\n    lat2, lon2 = coord2\n\n    phi1 = math.radians(lat1)\n    phi2 = math.radians(lat2)\n    delta_phi = math.radians(lat2 - lat1)\n    delta_lambda = math.radians(lon2 - lon1)\n\n    a = math.sin(delta_phi / 2)**2 + math.cos(phi1) * math.cos(phi2) * math.sin(delta_lambda / 2)**2\n    c = 2 * math.atan2(math.sqrt(a), math.sqrt(1 - a))\n\n    return R * c\n\n# Calculate distance\ndistance_to_city = haversine(launch_site_coord, city_coord)\n",
      "metadata": {
        "trusted": true
      },
      "outputs": [],
      "execution_count": null
    },
    {
      "cell_type": "code",
      "source": "import folium\nfrom folium.features import DivIcon\n\n# Initialize map\nsite_map = folium.Map(location=launch_site_coord, zoom_start=10)\n\n# Add launch site marker\nfolium.Marker(launch_site_coord, popup='CCAFS LC-40').add_to(site_map)\n\n# Add city marker with distance label\nfolium.Marker(\n    city_coord,\n    icon=DivIcon(\n        icon_size=(20, 20),\n        icon_anchor=(0, 0),\n        html='<div style=\"font-size: 12px; color:#d35400;\"><b>{:.2f} KM</b></div>'.format(distance_to_city)\n    )\n).add_to(site_map)\n\n# Draw line between launch site and city\nfolium.PolyLine(locations=[launch_site_coord, city_coord], color='blue', weight=2).add_to(site_map)\n\nsite_map",
      "metadata": {
        "trusted": true
      },
      "outputs": [],
      "execution_count": null
    },
    {
      "cell_type": "markdown",
      "source": "After you plot distance lines to the proximities, you can answer the following questions easily:\n\n*   Are launch sites in close proximity to railways?\n*   Are launch sites in close proximity to highways?\n*   Are launch sites in close proximity to coastline?\n*   Do launch sites keep certain distance away from cities?\n\nAlso please try to explain your findings.\n",
      "metadata": {}
    },
    {
      "cell_type": "markdown",
      "source": "# Next Steps:\n\nNow you have discovered many interesting insights related to the launch sites' location using folium, in a very interactive way. Next, you will need to build a dashboard using Ploty Dash on detailed launch records.\n",
      "metadata": {}
    },
    {
      "cell_type": "markdown",
      "source": "## Authors\n",
      "metadata": {}
    },
    {
      "cell_type": "markdown",
      "source": "[Pratiksha Verma](https://www.linkedin.com/in/pratiksha-verma-6487561b1/)\n",
      "metadata": {}
    },
    {
      "cell_type": "markdown",
      "source": "<!--## Change Log--!>\n",
      "metadata": {}
    },
    {
      "cell_type": "markdown",
      "source": "<!--| Date (YYYY-MM-DD) | Version | Changed By      | Change Description      |\n| ----------------- | ------- | -------------   | ----------------------- |\n| 2022-11-09        | 1.0     | Pratiksha Verma | Converted initial version to Jupyterlite|--!>\n",
      "metadata": {}
    },
    {
      "cell_type": "markdown",
      "source": "### <h3 align=\"center\"> IBM Corporation 2022. All rights reserved. <h3/>\n",
      "metadata": {}
    }
  ]
}